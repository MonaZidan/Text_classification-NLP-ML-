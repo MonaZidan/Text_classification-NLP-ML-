{
 "cells": [
  {
   "cell_type": "markdown",
   "id": "99bfe162",
   "metadata": {},
   "source": [
    "# Text Classification using ML"
   ]
  },
  {
   "cell_type": "code",
   "execution_count": 15,
   "id": "0317f14d",
   "metadata": {},
   "outputs": [],
   "source": [
    "# Import LIBs\n",
    "import joblib\n",
    "import spacy\n",
    "import pandas as pd\n",
    "import seaborn as sns\n",
    "from sklearn.model_selection import train_test_split\n",
    "from sklearn.pipeline import Pipeline\n",
    "from sklearn.feature_extraction.text import TfidfVectorizer\n",
    "from sklearn.naive_bayes import MultinomialNB, ComplementNB\n",
    "from sklearn.svm import LinearSVC\n",
    "from sklearn.metrics import classification_report, confusion_matrix"
   ]
  },
  {
   "cell_type": "code",
   "execution_count": null,
   "id": "17df6f67",
   "metadata": {},
   "outputs": [],
   "source": [
    "# Load Spacy Model\n",
    "nlp = spacy.load(\"en_core_web_sm\")"
   ]
  },
  {
   "cell_type": "code",
   "execution_count": null,
   "id": "ddcccec5",
   "metadata": {},
   "outputs": [
    {
     "data": {
      "text/html": [
       "<div>\n",
       "<style scoped>\n",
       "    .dataframe tbody tr th:only-of-type {\n",
       "        vertical-align: middle;\n",
       "    }\n",
       "\n",
       "    .dataframe tbody tr th {\n",
       "        vertical-align: top;\n",
       "    }\n",
       "\n",
       "    .dataframe thead th {\n",
       "        text-align: right;\n",
       "    }\n",
       "</style>\n",
       "<table border=\"1\" class=\"dataframe\">\n",
       "  <thead>\n",
       "    <tr style=\"text-align: right;\">\n",
       "      <th></th>\n",
       "      <th>Category</th>\n",
       "      <th>Message</th>\n",
       "    </tr>\n",
       "  </thead>\n",
       "  <tbody>\n",
       "    <tr>\n",
       "      <th>0</th>\n",
       "      <td>ham</td>\n",
       "      <td>Go until jurong point, crazy.. Available only ...</td>\n",
       "    </tr>\n",
       "    <tr>\n",
       "      <th>1</th>\n",
       "      <td>ham</td>\n",
       "      <td>Ok lar... Joking wif u oni...</td>\n",
       "    </tr>\n",
       "    <tr>\n",
       "      <th>2</th>\n",
       "      <td>spam</td>\n",
       "      <td>Free entry in 2 a wkly comp to win FA Cup fina...</td>\n",
       "    </tr>\n",
       "    <tr>\n",
       "      <th>3</th>\n",
       "      <td>ham</td>\n",
       "      <td>U dun say so early hor... U c already then say...</td>\n",
       "    </tr>\n",
       "    <tr>\n",
       "      <th>4</th>\n",
       "      <td>ham</td>\n",
       "      <td>Nah I don't think he goes to usf, he lives aro...</td>\n",
       "    </tr>\n",
       "  </tbody>\n",
       "</table>\n",
       "</div>"
      ],
      "text/plain": [
       "  Category                                            Message\n",
       "0      ham  Go until jurong point, crazy.. Available only ...\n",
       "1      ham                      Ok lar... Joking wif u oni...\n",
       "2     spam  Free entry in 2 a wkly comp to win FA Cup fina...\n",
       "3      ham  U dun say so early hor... U c already then say...\n",
       "4      ham  Nah I don't think he goes to usf, he lives aro..."
      ]
     },
     "execution_count": 4,
     "metadata": {},
     "output_type": "execute_result"
    }
   ],
   "source": [
    "# Read Data\n",
    "df = pd.read_csv(r\"SPAM text message 20170820 - Data.csv\")\n",
    "df.head()"
   ]
  },
  {
   "cell_type": "markdown",
   "id": "180e8453",
   "metadata": {},
   "source": [
    "# EDA & Data Preprocessing"
   ]
  },
  {
   "cell_type": "code",
   "execution_count": null,
   "id": "9f7f718c",
   "metadata": {},
   "outputs": [
    {
     "name": "stdout",
     "output_type": "stream",
     "text": [
      "<class 'pandas.core.frame.DataFrame'>\n",
      "RangeIndex: 5572 entries, 0 to 5571\n",
      "Data columns (total 2 columns):\n",
      " #   Column    Non-Null Count  Dtype \n",
      "---  ------    --------------  ----- \n",
      " 0   Category  5572 non-null   object\n",
      " 1   Message   5572 non-null   object\n",
      "dtypes: object(2)\n",
      "memory usage: 87.2+ KB\n"
     ]
    }
   ],
   "source": [
    "# Data Info\n",
    "df.info()"
   ]
  },
  {
   "cell_type": "code",
   "execution_count": null,
   "id": "0084d8f3",
   "metadata": {},
   "outputs": [
    {
     "data": {
      "text/plain": [
       "Category\n",
       "ham     4825\n",
       "spam     747\n",
       "Name: count, dtype: int64"
      ]
     },
     "execution_count": 6,
     "metadata": {},
     "output_type": "execute_result"
    }
   ],
   "source": [
    "# Check How Many Categories We Have?\n",
    "df[\"Category\"].value_counts()"
   ]
  },
  {
   "cell_type": "code",
   "execution_count": null,
   "id": "10374a95",
   "metadata": {},
   "outputs": [],
   "source": [
    "# Split Data Into Text & Labels\n",
    "text = df[\"Message\"]\n",
    "labels = df[\"Category\"]"
   ]
  },
  {
   "cell_type": "code",
   "execution_count": null,
   "id": "eef99710",
   "metadata": {},
   "outputs": [
    {
     "name": "stdout",
     "output_type": "stream",
     "text": [
      "Train text shape : (4457,)\n",
      "Test text shape : (1115,)\n",
      "Test labels shape : (4457,)\n",
      "Test labels shape : (1115,)\n"
     ]
    }
   ],
   "source": [
    "# Split Data into Train & Test\n",
    "xtrain, xtest, ytrain, ytest = train_test_split(text, labels, test_size = 0.2,\n",
    "                                                stratify = labels, random_state = 42)\n",
    "print(f\"Train text shape : {xtrain.shape}\")\n",
    "print(f\"Test text shape : {xtest.shape}\")\n",
    "print(f\"Test labels shape : {ytrain.shape}\")\n",
    "print(f\"Test labels shape : {ytest.shape}\")"
   ]
  },
  {
   "cell_type": "code",
   "execution_count": null,
   "id": "278b9e46",
   "metadata": {},
   "outputs": [],
   "source": [
    "# Create a Pipelines with Different Algorithms\n",
    "pl_MNB = Pipeline([\n",
    "    (\"tfidf\", TfidfVectorizer(stop_words = \"english\")),\n",
    "    (\"clf\", MultinomialNB())\n",
    "])\n",
    "\n",
    "pl_CNB = Pipeline([\n",
    "    (\"tfidf\", TfidfVectorizer(stop_words = \"english\")),\n",
    "    (\"clf\", ComplementNB())\n",
    "])\n",
    "\n",
    "pl_SVC = Pipeline([\n",
    "    (\"tfidf\", TfidfVectorizer(stop_words = \"english\")),\n",
    "    (\"clf\", LinearSVC())\n",
    "])\n"
   ]
  },
  {
   "cell_type": "code",
   "execution_count": 27,
   "id": "31a7e277",
   "metadata": {},
   "outputs": [
    {
     "name": "stdout",
     "output_type": "stream",
     "text": [
      "MultinomialNB results\n",
      "Confusion matrix : \n",
      " [[966   0]\n",
      " [ 34 115]]\n",
      "Classification report : \n",
      "               precision    recall  f1-score   support\n",
      "\n",
      "         ham       0.97      1.00      0.98       966\n",
      "        spam       1.00      0.77      0.87       149\n",
      "\n",
      "    accuracy                           0.97      1115\n",
      "   macro avg       0.98      0.89      0.93      1115\n",
      "weighted avg       0.97      0.97      0.97      1115\n",
      "\n"
     ]
    }
   ],
   "source": [
    "# Fit the MultinomialNB\n",
    "pl_MNB.fit(xtrain, ytrain)\n",
    "MNB_pred = pl_MNB.predict(xtest)\n",
    "print(\"MultinomialNB results\")\n",
    "print(\"Confusion matrix : \\n\", confusion_matrix(ytest, MNB_pred))\n",
    "print(\"Classification report : \\n\", classification_report(ytest, MNB_pred))"
   ]
  },
  {
   "cell_type": "code",
   "execution_count": 28,
   "id": "41d3d9bf",
   "metadata": {},
   "outputs": [
    {
     "name": "stdout",
     "output_type": "stream",
     "text": [
      "ComplementNB results\n",
      "Confusion matrix : \n",
      " [[940  26]\n",
      " [  8 141]]\n",
      "Classification report : \n",
      "               precision    recall  f1-score   support\n",
      "\n",
      "         ham       0.99      0.97      0.98       966\n",
      "        spam       0.84      0.95      0.89       149\n",
      "\n",
      "    accuracy                           0.97      1115\n",
      "   macro avg       0.92      0.96      0.94      1115\n",
      "weighted avg       0.97      0.97      0.97      1115\n",
      "\n"
     ]
    }
   ],
   "source": [
    "# Fit the ComplementNB\n",
    "pl_CNB.fit(xtrain, ytrain)\n",
    "CNB_pred = pl_CNB.predict(xtest)\n",
    "print(\"ComplementNB results\")\n",
    "print(\"Confusion matrix : \\n\", confusion_matrix(ytest, CNB_pred))\n",
    "print(\"Classification report : \\n\", classification_report(ytest, CNB_pred))"
   ]
  },
  {
   "cell_type": "code",
   "execution_count": 29,
   "id": "68b002e4",
   "metadata": {},
   "outputs": [
    {
     "name": "stdout",
     "output_type": "stream",
     "text": [
      "LinearSVC results\n",
      "Confusion matrix : \n",
      " [[964   2]\n",
      " [ 18 131]]\n",
      "Classification report : \n",
      "               precision    recall  f1-score   support\n",
      "\n",
      "         ham       0.98      1.00      0.99       966\n",
      "        spam       0.98      0.88      0.93       149\n",
      "\n",
      "    accuracy                           0.98      1115\n",
      "   macro avg       0.98      0.94      0.96      1115\n",
      "weighted avg       0.98      0.98      0.98      1115\n",
      "\n"
     ]
    }
   ],
   "source": [
    "# Fit the LinearSVC\n",
    "pl_SVC.fit(xtrain, ytrain)\n",
    "SVC_pred = pl_SVC.predict(xtest)\n",
    "print(\"LinearSVC results\")\n",
    "print(\"Confusion matrix : \\n\", confusion_matrix(ytest, SVC_pred))\n",
    "print(\"Classification report : \\n\", classification_report(ytest, SVC_pred))"
   ]
  },
  {
   "cell_type": "markdown",
   "id": "b213f8a1",
   "metadata": {},
   "source": [
    "##### In our case, misclassifying ham emails as spam is more costly, and both false positives and false negatives matter.\n",
    "\n",
    "###### MultinomialNB performs well on ham but poorly detects spam.\n",
    "\n",
    "###### ComplementNB detects spam well but misclassifies many ham emails.\n",
    "\n",
    "###### LinearSVC offers a balanced trade-off, with low false positives and good spam detection.\n",
    "\n",
    "##### Thus, LinearSVC is the most appropriate choice."
   ]
  },
  {
   "cell_type": "code",
   "execution_count": 13,
   "id": "c53cacaf",
   "metadata": {},
   "outputs": [
    {
     "data": {
      "text/plain": [
       "array(['spam'], dtype=object)"
      ]
     },
     "execution_count": 13,
     "metadata": {},
     "output_type": "execute_result"
    }
   ],
   "source": [
    "# Test the linearsvc\n",
    "new_msg = \"you have won a $100000 prize, contact us for the reword\"\n",
    "new_msg_pred = pl_SVC.predict([new_msg])\n",
    "new_msg_pred"
   ]
  },
  {
   "cell_type": "code",
   "execution_count": 30,
   "id": "95992a39",
   "metadata": {},
   "outputs": [
    {
     "name": "stdout",
     "output_type": "stream",
     "text": [
      "Model Saved as 'spam_classifier_LSVC.pkl\n"
     ]
    }
   ],
   "source": [
    "# Save Best Model\n",
    "joblib.dump(pl_SVC, \"spam_classifier_LSVC.pkl\")\n",
    "print(\"Model Saved as 'spam_classifier_LSVC.pkl\")"
   ]
  }
 ],
 "metadata": {
  "kernelspec": {
   "display_name": "new-depi-env",
   "language": "python",
   "name": "python3"
  },
  "language_info": {
   "codemirror_mode": {
    "name": "ipython",
    "version": 3
   },
   "file_extension": ".py",
   "mimetype": "text/x-python",
   "name": "python",
   "nbconvert_exporter": "python",
   "pygments_lexer": "ipython3",
   "version": "3.11.13"
  }
 },
 "nbformat": 4,
 "nbformat_minor": 5
}
